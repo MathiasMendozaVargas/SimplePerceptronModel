{
 "cells": [
  {
   "cell_type": "code",
   "execution_count": 16,
   "id": "db12e0be",
   "metadata": {},
   "outputs": [
    {
     "name": "stdout",
     "output_type": "stream",
     "text": [
      "None\n"
     ]
    }
   ],
   "source": [
    "import torch\n",
    "x = torch.ones(1, requires_grad=True)\n",
    "print(x.grad)"
   ]
  },
  {
   "cell_type": "code",
   "execution_count": 17,
   "id": "374a7e19",
   "metadata": {},
   "outputs": [
    {
     "name": "stdout",
     "output_type": "stream",
     "text": [
      "tensor([12.])\n"
     ]
    }
   ],
   "source": [
    "x = torch.ones(1, requires_grad=True)\n",
    "y = x + 2\n",
    "z = y * y * 2\n",
    "\n",
    "z.backward()\n",
    "print(x.grad)"
   ]
  },
  {
   "cell_type": "code",
   "execution_count": 18,
   "id": "336ab9fe",
   "metadata": {},
   "outputs": [],
   "source": [
    "class Perceptron(torch.nn.Module):\n",
    "    def __init__(self):\n",
    "        super(Perceptron, self).__init__()\n",
    "        self.fc = nn.Linear(1, 1)\n",
    "        self.relu = torch.nn.ReLU()\n",
    "    def forward(self, x):\n",
    "        output = self.fc(x)\n",
    "        output = self.relu(x)\n",
    "        return output"
   ]
  },
  {
   "cell_type": "code",
   "execution_count": 19,
   "id": "c78680ea",
   "metadata": {},
   "outputs": [],
   "source": [
    "class Feedforward(torch.nn.Module):\n",
    "    def __init__(self, input_size, hidden_size):\n",
    "        super(Feedforward, self).__init__()\n",
    "        self.input_size = input_size\n",
    "        self.hidden_size = hidden_size\n",
    "        self.fc1 = torch.nn.Linear(self.input_size, self.hidden_size)\n",
    "        self.relu = torch.nn.ReLU()\n",
    "        self.fc2 = torch.nn.Linear(self.hidden_size, 1)\n",
    "        self.sigmoid = torch.nn.Sigmoid()\n",
    "    def forward(self, x):\n",
    "        hidden = self.fc1(x)\n",
    "        relu = self.relu(hidden)\n",
    "        output = self.fc2(relu)\n",
    "        output = self.sigmoid(output)\n",
    "        return output"
   ]
  },
  {
   "cell_type": "code",
   "execution_count": 20,
   "id": "adaptive-garbage",
   "metadata": {},
   "outputs": [],
   "source": [
    "# CREATE RANDOM DATA POINTS\n",
    "from sklearn.datasets import make_blobs\n",
    "import numpy as np\n",
    "\n",
    "def blob_label(y, label, loc):\n",
    "    target = np.copy(y)\n",
    "    for l in loc:\n",
    "        target[y == 1] = label\n",
    "    return target\n",
    "\n",
    "x_train, y_train = make_blobs(n_samples=40, n_features=2, cluster_std = 1.5, shuffle=True)\n",
    "x_train = torch.FloatTensor(x_train)\n",
    "y_train = torch.FloatTensor(blob_label(y_train, 0, [0]))\n",
    "y_train = torch.FloatTensor(blob_label(y_train, 1, [1, 2, 3]))\n",
    "\n",
    "x_test, y_test = make_blobs(n_samples=10, n_features=2, cluster_std = 1.5, shuffle=True)\n",
    "x_test = torch.FloatTensor(x_test)\n",
    "y_test = torch.FloatTensor(blob_label(y_test, 0, [0]))\n",
    "y_test = torch.FloatTensor(blob_label(y_test, 1, [1, 2, 3]))"
   ]
  },
  {
   "cell_type": "code",
   "execution_count": 21,
   "id": "certified-mercury",
   "metadata": {},
   "outputs": [],
   "source": [
    "# Making the model\n",
    "model = Feedforward(2, 10)\n",
    "criterion = torch.nn.BCELoss()\n",
    "optimizer = torch.optim.SGD(model.parameters(), lr=0.01)"
   ]
  },
  {
   "cell_type": "code",
   "execution_count": 22,
   "id": "39fcce92",
   "metadata": {},
   "outputs": [
    {
     "name": "stdout",
     "output_type": "stream",
     "text": [
      "Test Loss before training:  1.5161597728729248\n"
     ]
    }
   ],
   "source": [
    "model.eval()\n",
    "y_pred = model(x_test)\n",
    "before_train = criterion(y_pred.squeeze(), y_test)\n",
    "print('Test Loss before training: ', before_train.item())"
   ]
  },
  {
   "cell_type": "code",
   "execution_count": 23,
   "id": "df8a86f8",
   "metadata": {},
   "outputs": [
    {
     "name": "stdout",
     "output_type": "stream",
     "text": [
      "Epoch 0: train_loss: 0.6984040141105652\n",
      "Epoch 1: train_loss: 0.6846081018447876\n",
      "Epoch 2: train_loss: 0.6712305545806885\n",
      "Epoch 3: train_loss: 0.6582714915275574\n",
      "Epoch 4: train_loss: 0.6456972360610962\n",
      "Epoch 5: train_loss: 0.6334643363952637\n",
      "Epoch 6: train_loss: 0.6214922070503235\n",
      "Epoch 7: train_loss: 0.6098789572715759\n",
      "Epoch 8: train_loss: 0.5985933542251587\n",
      "Epoch 9: train_loss: 0.5875394940376282\n",
      "Epoch 10: train_loss: 0.5766853094100952\n",
      "Epoch 11: train_loss: 0.5659273862838745\n",
      "Epoch 12: train_loss: 0.5553280711174011\n",
      "Epoch 13: train_loss: 0.5448184609413147\n",
      "Epoch 14: train_loss: 0.5344735980033875\n",
      "Epoch 15: train_loss: 0.5242797136306763\n",
      "Epoch 16: train_loss: 0.5141966938972473\n",
      "Epoch 17: train_loss: 0.5041927099227905\n",
      "Epoch 18: train_loss: 0.4942479729652405\n",
      "Epoch 19: train_loss: 0.48446664214134216\n"
     ]
    }
   ],
   "source": [
    "model.train()\n",
    "epoch = 20\n",
    "\n",
    "for epoch in range(epoch):\n",
    "    optimizer.zero_grad()\n",
    "    \n",
    "    # Forward pass\n",
    "    y_pred = model(x_train)\n",
    "    \n",
    "    # Compute Loss\n",
    "    loss = criterion(y_pred.squeeze(), y_train)\n",
    "    \n",
    "    print('Epoch {}: train_loss: {}'.format(epoch, loss.item()))\n",
    "    \n",
    "    # Backward pass\n",
    "    loss.backward()\n",
    "    optimizer.step()"
   ]
  },
  {
   "cell_type": "code",
   "execution_count": 24,
   "id": "392e54d5",
   "metadata": {},
   "outputs": [
    {
     "name": "stdout",
     "output_type": "stream",
     "text": [
      "Test Loss after training 0.5212446451187134\n"
     ]
    }
   ],
   "source": [
    "model.eval()\n",
    "y_pred = model(x_test)\n",
    "after_train = criterion(y_pred.squeeze(), y_test)\n",
    "print('Test Loss after training', after_train.item())"
   ]
  }
 ],
 "metadata": {
  "kernelspec": {
   "display_name": "Python 3",
   "language": "python",
   "name": "python3"
  },
  "language_info": {
   "codemirror_mode": {
    "name": "ipython",
    "version": 3
   },
   "file_extension": ".py",
   "mimetype": "text/x-python",
   "name": "python",
   "nbconvert_exporter": "python",
   "pygments_lexer": "ipython3",
   "version": "3.8.8"
  }
 },
 "nbformat": 4,
 "nbformat_minor": 5
}
